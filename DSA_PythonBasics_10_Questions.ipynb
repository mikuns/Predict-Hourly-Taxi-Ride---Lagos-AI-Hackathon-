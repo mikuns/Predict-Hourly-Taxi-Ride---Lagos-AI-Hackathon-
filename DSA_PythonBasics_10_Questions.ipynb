{
  "nbformat": 4,
  "nbformat_minor": 0,
  "metadata": {
    "colab": {
      "name": "DSA_PythonBasics_10_Questions.ipynb",
      "version": "0.3.2",
      "provenance": [],
      "collapsed_sections": [],
      "include_colab_link": true
    },
    "kernelspec": {
      "display_name": "Python 3",
      "language": "python",
      "name": "python3"
    },
    "accelerator": "GPU"
  },
  "cells": [
    {
      "cell_type": "markdown",
      "metadata": {
        "id": "view-in-github",
        "colab_type": "text"
      },
      "source": [
        "[View in Colaboratory](https://colab.research.google.com/github/mikuns/Predict-Hourly-Taxi-Ride---Lagos-AI-Hackathon-/blob/master/DSA_PythonBasics_10_Questions.ipynb)"
      ]
    },
    {
      "metadata": {
        "id": "uRKaUXaCKe7B",
        "colab_type": "text"
      },
      "cell_type": "markdown",
      "source": [
        "![DSA log](dsalogo-Abuja.png)"
      ]
    },
    {
      "metadata": {
        "id": "O00sPwz5Ke7G",
        "colab_type": "text"
      },
      "cell_type": "markdown",
      "source": [
        "### Instructions"
      ]
    },
    {
      "metadata": {
        "id": "NYenzpsaKe7K",
        "colab_type": "text"
      },
      "cell_type": "markdown",
      "source": [
        "1. Make sure you are using a version of notebook greater than v.3. If you installed Anaconda with python 3 - this is likely to be fine. The next piece of code will check if you have the right version.\n",
        "2. The notebook has both some open test cases that you can use to test the functionality of your code - however it will be run on another set of test cases that you can't from which marks will be awarded. So passing all the tests in this notebook is not a guarantee that you have done things correctly - though its highly probable.\n",
        "3. Also make sure you submit a notebook that doesn't return any errors. One way to ensure this is to run all the cells before you submit the notebook.\n",
        "4. When you are done create a zip file of your notebook and upload that\n",
        "5. For each cell where you see \"YOUR CODE HERE\" delete the return notImplemented statement when you write your code there - don't leave it in the notebook.\n",
        "6. Once you are done, you are done."
      ]
    },
    {
      "metadata": {
        "id": "sR5QE3EvKe7Q",
        "colab_type": "text"
      },
      "cell_type": "markdown",
      "source": [
        "## Python Basics"
      ]
    },
    {
      "metadata": {
        "id": "Y-ppjLZAMtt3",
        "colab_type": "code",
        "colab": {
          "base_uri": "https://localhost:8080/",
          "height": 131
        },
        "outputId": "97eaa660-f9e5-4250-a94e-094f30861205"
      },
      "cell_type": "code",
      "source": [
        "!pip install nose"
      ],
      "execution_count": 2,
      "outputs": [
        {
          "output_type": "stream",
          "text": [
            "Collecting nose\n",
            "\u001b[?25l  Downloading https://files.pythonhosted.org/packages/15/d8/dd071918c040f50fa1cf80da16423af51ff8ce4a0f2399b7bf8de45ac3d9/nose-1.3.7-py3-none-any.whl (154kB)\n",
            "\u001b[K    100% |████████████████████████████████| 163kB 14.5MB/s \n",
            "\u001b[?25hInstalling collected packages: nose\n",
            "Successfully installed nose-1.3.7\n"
          ],
          "name": "stdout"
        }
      ]
    },
    {
      "metadata": {
        "id": "7-ZbiCYEKe7X",
        "colab_type": "code",
        "colab": {}
      },
      "cell_type": "code",
      "source": [
        "# Import some stuff that you will use in this notebook\n",
        "from nose.tools import assert_equal\n",
        "import numpy as np\n",
        "import IPython\n",
        "assert IPython.version_info[0] >= 3, \"Your version of IPython is too old, please update it.\""
      ],
      "execution_count": 0,
      "outputs": []
    },
    {
      "metadata": {
        "id": "r4sBrN_PKe7j",
        "colab_type": "text"
      },
      "cell_type": "markdown",
      "source": [
        "#### Question 1\n",
        "\n",
        "Complete the function to output a string which is the concatenation of the inputs to the function"
      ]
    },
    {
      "metadata": {
        "id": "ixcJVygHKe7l",
        "colab_type": "code",
        "colab": {}
      },
      "cell_type": "code",
      "source": [
        "def get_string(x,y):\n",
        "    z = str(x) + str(y)\n",
        "    #raise NotImplementedError()\n",
        "    return z"
      ],
      "execution_count": 0,
      "outputs": []
    },
    {
      "metadata": {
        "id": "Z1kyJLu3Ke7x",
        "colab_type": "code",
        "colab": {
          "base_uri": "https://localhost:8080/",
          "height": 55
        },
        "outputId": "77a77051-a694-455b-a822-d38b5f556762"
      },
      "cell_type": "code",
      "source": [
        "print(assert_equal(get_string(4,5), '45'))\n",
        "print(assert_equal(get_string('hello','world'), 'helloworld'))"
      ],
      "execution_count": 5,
      "outputs": [
        {
          "output_type": "stream",
          "text": [
            "None\n",
            "None\n"
          ],
          "name": "stdout"
        }
      ]
    },
    {
      "metadata": {
        "id": "pvnPW1xWKe78",
        "colab_type": "text"
      },
      "cell_type": "markdown",
      "source": [
        "#### Question 2\n",
        "\n",
        "Complete the function to output the value of $y$ given $x$ and $p$. Function definition is $y = 4 + 5x^p$ <br>\n",
        "**Condition:** If the $x$ is not positive the value of y should be 0"
      ]
    },
    {
      "metadata": {
        "id": "VypxGyehKe8A",
        "colab_type": "code",
        "colab": {}
      },
      "cell_type": "code",
      "source": [
        "def ypolynomial(x,p):\n",
        "    if(x<0):\n",
        "      y = 0\n",
        "      return y\n",
        "    else:\n",
        "      xp = np.power(x,p)\n",
        "      y  = 4 + (5 * xp)\n",
        "      #raise NotImplementedError()\n",
        "      return y"
      ],
      "execution_count": 0,
      "outputs": []
    },
    {
      "metadata": {
        "id": "2PXGjcapKe8J",
        "colab_type": "code",
        "colab": {}
      },
      "cell_type": "code",
      "source": [
        "assert_equal(ypolynomial(3,3), 139)\n",
        "assert_equal(ypolynomial(-2,3), 0)"
      ],
      "execution_count": 0,
      "outputs": []
    },
    {
      "metadata": {
        "id": "egJyc3XFKe8S",
        "colab_type": "text"
      },
      "cell_type": "markdown",
      "source": [
        "#### Question 3\n",
        "\n",
        "Complete the function to returns <i>'obese'</i> or <i>'not obese'</i> given weight (in Kg) and and height (in meters).  Note: one is obesse if the Body Mass Index (BMI) is greater or equal to 30 and $BMI = \\frac{weight}{height^2}$"
      ]
    },
    {
      "metadata": {
        "id": "5zY7FOVjKe8Y",
        "colab_type": "code",
        "colab": {}
      },
      "cell_type": "code",
      "source": [
        "def isObesse(weight, height):\n",
        "    BMI = weight / (np.power(height, 2))\n",
        "#     raise NotImplementedError()\n",
        "    return 'obese' if BMI >= 30 else 'not obese'"
      ],
      "execution_count": 0,
      "outputs": []
    },
    {
      "metadata": {
        "id": "vaRmDBhyKe8h",
        "colab_type": "code",
        "colab": {}
      },
      "cell_type": "code",
      "source": [
        "assert_equal(isObesse(80,1.58), 'obese')\n",
        "assert_equal(isObesse(122,2.03), 'not obese' )\n"
      ],
      "execution_count": 0,
      "outputs": []
    },
    {
      "metadata": {
        "id": "sw-7h70NKe8s",
        "colab_type": "text"
      },
      "cell_type": "markdown",
      "source": [
        "#### Question 4\n",
        "\n",
        "Complete the function to return a list of numbers between 0 and a number $N$ that are perfectly divisible by $p$ (with out leaving a remainder). <br>\n",
        "**Hint**: $N$ should also be inclusive in the numbers being considered. If N is negative use N == 20"
      ]
    },
    {
      "metadata": {
        "id": "hKtGjDipKe8u",
        "colab_type": "code",
        "colab": {}
      },
      "cell_type": "code",
      "source": [
        "def divisibles(N, p):\n",
        "  \n",
        "    N_ = 20 if N < 0 else N\n",
        "    \n",
        "    A_list = []\n",
        "    \n",
        "    for i in range(0,N_ + 1):\n",
        "      \n",
        "      if( i % p == 0 ):\n",
        "      \n",
        "        A_list.append(i)\n",
        "        \n",
        "    return A_list\n",
        "\n",
        "#     raise NotImplementedError()"
      ],
      "execution_count": 0,
      "outputs": []
    },
    {
      "metadata": {
        "id": "r-IneyO2Ke9B",
        "colab_type": "code",
        "colab": {}
      },
      "cell_type": "code",
      "source": [
        "assert_equal(divisibles(10,2), [0,2,4,6,8,10])\n",
        "assert_equal(divisibles(-10,2), [0,2,4,6,8,10,12,14,16,18,20])"
      ],
      "execution_count": 0,
      "outputs": []
    },
    {
      "metadata": {
        "id": "8Ho8BSAfKe9K",
        "colab_type": "text"
      },
      "cell_type": "markdown",
      "source": [
        "#### Question 5\n",
        "Complete the function to output the list, mylist, with duplicate values removed. "
      ]
    },
    {
      "metadata": {
        "id": "fACSqshOKe9N",
        "colab_type": "code",
        "colab": {}
      },
      "cell_type": "code",
      "source": [
        "def removeDuplicates(mylist):\n",
        "  \n",
        "    A_list = []\n",
        "    \n",
        "    for i in mylist:\n",
        "      \n",
        "      if i not in A_list:\n",
        "          A_list.append(i)\n",
        "          \n",
        "    A_list.sort()\n",
        "    \n",
        "    return A_list\n",
        "        \n",
        "        \n",
        "#     raise NotImplementedError()"
      ],
      "execution_count": 0,
      "outputs": []
    },
    {
      "metadata": {
        "id": "Ere1NO8kKe9Z",
        "colab_type": "code",
        "colab": {}
      },
      "cell_type": "code",
      "source": [
        "assert_equal(removeDuplicates([1,3,2,3,4]), [1,2,3,4])\n",
        "assert_equal(removeDuplicates([4,1,4,3]), [1,3,4])"
      ],
      "execution_count": 0,
      "outputs": []
    },
    {
      "metadata": {
        "id": "0RhQIxjJKe9l",
        "colab_type": "text"
      },
      "cell_type": "markdown",
      "source": [
        "#### Question 6\n",
        "\n",
        "Complete the function to output the sum of the last and first numbers in the list. Note if list is empty return 0."
      ]
    },
    {
      "metadata": {
        "id": "XNKwVIQYKe9o",
        "colab_type": "code",
        "colab": {}
      },
      "cell_type": "code",
      "source": [
        "def sumOfFirstAndLast(listx ):\n",
        "    if (listx == []):\n",
        "      return 0\n",
        "    else:\n",
        "      z = listx[0] + listx[-1]\n",
        "      return z\n",
        "    \n",
        "#     raise NotImplementedError()"
      ],
      "execution_count": 0,
      "outputs": []
    },
    {
      "metadata": {
        "id": "5GFA59EUKe9t",
        "colab_type": "code",
        "colab": {}
      },
      "cell_type": "code",
      "source": [
        "assert_equal(sumOfFirstAndLast([3,8,2,12]), 15)\n",
        "assert_equal(sumOfFirstAndLast([4]), 8)\n"
      ],
      "execution_count": 0,
      "outputs": []
    },
    {
      "metadata": {
        "id": "4RDhmso9Ke91",
        "colab_type": "text"
      },
      "cell_type": "markdown",
      "source": [
        "#### Below is an sample code that reverses digits in a number. Modify this code, if you find it useful, to to attempt questions 7, 8, 9 and 10. "
      ]
    },
    {
      "metadata": {
        "id": "4_hCFaRqKe94",
        "colab_type": "code",
        "colab": {}
      },
      "cell_type": "code",
      "source": [
        "def reverseNumber(number):\n",
        "\n",
        "    revnumber = 0\n",
        "    while(number>0):\n",
        "        lastdigit = number%10\n",
        "        revnumber = (revnumber*10)+lastdigit;\n",
        "        number = number//10\n",
        "        \n",
        "    return revnumber"
      ],
      "execution_count": 0,
      "outputs": []
    },
    {
      "metadata": {
        "id": "7OIwScxmKe-C",
        "colab_type": "text"
      },
      "cell_type": "markdown",
      "source": [
        "#### Question 7\n",
        "\n",
        "Complete the function to output the sum of digits of the input number."
      ]
    },
    {
      "metadata": {
        "id": "uEa5XqQ5Ke-E",
        "colab_type": "code",
        "colab": {}
      },
      "cell_type": "code",
      "source": [
        "def sumDigits(number):\n",
        "    \n",
        "    sum = 0\n",
        "    while number:\n",
        "        sum += number % 10\n",
        "        number //= 10\n",
        "    return sum\n",
        "    #raise NotImplementedError()\n"
      ],
      "execution_count": 0,
      "outputs": []
    },
    {
      "metadata": {
        "id": "weWzcrjAKe-P",
        "colab_type": "code",
        "colab": {}
      },
      "cell_type": "code",
      "source": [
        "assert_equal(sumDigits(1234),10)\n",
        "assert_equal(sumDigits(172034),17)"
      ],
      "execution_count": 0,
      "outputs": []
    },
    {
      "metadata": {
        "id": "4qqHzKrsKe-Z",
        "colab_type": "text"
      },
      "cell_type": "markdown",
      "source": [
        "#### Question 8\n",
        "\n",
        "Complete the function to output the sum of even number digits of the input number."
      ]
    },
    {
      "metadata": {
        "id": "dNOZxpKiKe-f",
        "colab_type": "code",
        "colab": {}
      },
      "cell_type": "code",
      "source": [
        "def countEvenDigits(number):\n",
        "  \n",
        "    EvenCount = 0\n",
        "    \n",
        "    number = str(number)\n",
        "    \n",
        "    for num in number:\n",
        "      \n",
        "        num = int(num)\n",
        "\n",
        "        if num % 2 == 0:\n",
        "            EvenCount += 1\n",
        "    return EvenCount\n",
        "\n",
        "#     raise NotImplementedError()"
      ],
      "execution_count": 0,
      "outputs": []
    },
    {
      "metadata": {
        "id": "TXLInGYCKe-p",
        "colab_type": "code",
        "colab": {}
      },
      "cell_type": "code",
      "source": [
        "assert_equal(countEvenDigits(189156782),4)\n",
        "assert_equal(countEvenDigits(431728564),5)"
      ],
      "execution_count": 0,
      "outputs": []
    },
    {
      "metadata": {
        "id": "i_01KdxGKe-1",
        "colab_type": "text"
      },
      "cell_type": "markdown",
      "source": [
        "#### Question 9\n",
        "\n",
        "Complete the function to output a dictionary with both the sum of even and odd digits with the\n",
        "keys 'even' and 'odd' respectively"
      ]
    },
    {
      "metadata": {
        "id": "MyQti1yQKe-3",
        "colab_type": "code",
        "colab": {}
      },
      "cell_type": "code",
      "source": [
        "def countOddEvenDigits(number):\n",
        "    \n",
        "    EvenCount = 0\n",
        "    EvenNum = str(number)\n",
        "    \n",
        "    for num1 in EvenNum:\n",
        "        num1 = int(num1)\n",
        "        if num1 % 2 == 0:\n",
        "            EvenCount += 1\n",
        "            \n",
        "    OddCount = 0\n",
        "    OddNum = str(number)\n",
        "    \n",
        "    for num2 in OddNum:\n",
        "        num2 = int(num2)\n",
        "        if num2 % 2 != 0:\n",
        "            OddCount += 1\n",
        "\n",
        "          \n",
        "    OddEvenDict =  {'odd':OddCount,'even':EvenCount}\n",
        "    \n",
        "    return OddEvenDict\n",
        "    \n",
        "#     raise NotImplementedError()"
      ],
      "execution_count": 0,
      "outputs": []
    },
    {
      "metadata": {
        "id": "i5wejSyPKe_L",
        "colab_type": "code",
        "colab": {}
      },
      "cell_type": "code",
      "source": [
        "assert_equal(countOddEvenDigits(189156782),{'odd':5,'even':4})\n",
        "assert_equal(countOddEvenDigits(431728564),{'odd':4,'even':5})"
      ],
      "execution_count": 0,
      "outputs": []
    },
    {
      "metadata": {
        "id": "7vT8JQQxKe_P",
        "colab_type": "text"
      },
      "cell_type": "markdown",
      "source": [
        "#### Question 10\n",
        "\n",
        "\n",
        "The concept of <a href=\"https://en.wikipedia.org/wiki/Check_digit\">check digit</a> is widely used in identification codes including bank account numbers, International Standard Book Numbers (ISBNs) and Universal Product Codes (UPCs). Check digits are useful in reducing manual input errors in digital applications, as they the codes or numbers with check digits can be validated without any other extra information. This question will focus on ISBN 13 that uses the European Article Number (EAN) 13 barcode specification, described in the image below \n",
        "\n",
        "![ISBN 13 Calculation  Example](ISBN13example.png) [Extracted from Wikipedia]\n",
        "\n",
        "Using the information above complete the function to determine the validity of the ISBN13 and returns 'Valid' or 'Invalid for a valid or invalid ISBN13 respectively.\n"
      ]
    },
    {
      "metadata": {
        "id": "EZHneBlvKe_R",
        "colab_type": "code",
        "colab": {}
      },
      "cell_type": "code",
      "source": [
        "def verify_ISBN13(ISBN):\n",
        "  \n",
        "    if (len(str(ISBN))!=13):\n",
        "        return 'Invalid'\n",
        "    else:\n",
        "      ISBN_digits=list(str(ISBN))\n",
        "      \n",
        "      sum=0\n",
        "      count=0\n",
        "    \n",
        "      for x in ISBN_digits:\n",
        "        \n",
        "          if (count %2 == 0):\n",
        "              sum += int(x)\n",
        "          else:\n",
        "              sum += 3*int(x)\n",
        "          count += 1\n",
        "          \n",
        "      remainder = sum%10\n",
        "      if remainder==0:\n",
        "          return 'Valid'\n",
        "      else:\n",
        "          return 'Invalid'\n",
        "      \n",
        "#     raise NotImplementedError()"
      ],
      "execution_count": 0,
      "outputs": []
    },
    {
      "metadata": {
        "id": "nsZ_qeA9Ke_e",
        "colab_type": "code",
        "colab": {}
      },
      "cell_type": "code",
      "source": [
        "assert_equal(verify_ISBN13(4006381333931), 'Valid')\n",
        "assert_equal(verify_ISBN13(9788175257665), 'Valid')\n",
        "assert_equal(verify_ISBN13(9788175257645), 'Invalid')"
      ],
      "execution_count": 0,
      "outputs": []
    },
    {
      "metadata": {
        "id": "7gFeOaNibQet",
        "colab_type": "code",
        "colab": {}
      },
      "cell_type": "code",
      "source": [
        ""
      ],
      "execution_count": 0,
      "outputs": []
    }
  ]
}